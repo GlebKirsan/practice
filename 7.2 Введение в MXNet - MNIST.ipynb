{
 "cells": [
  {
   "cell_type": "markdown",
   "metadata": {},
   "source": [
    "# MNIST\n",
    "Датасет от MNIST(Modified National Institute of Standards and Technology) - это несколько десятков тысяч картинок с рукописными цифрами 28х28. Для начала его нужно скачать и переместить в папку с данным ноутбуком папку из архива.\n",
    "\n",
    "[Ссылка на скачивание архива](https://www.kaggle.com/scolianni/mnistasjpg/downloads/trainingSet.tar.gz/1)\n",
    "\n",
    "Далее сделаем ```.rec``` файл из имеющихся данных, чтобы передать их нейросети. Воспользуемся файлом ```im2rec.py```. Пример директории, где он должен лежать:\n",
    "\n",
    "anaconda3/lib/python3.6/site-packages/mxnet/tools/im2rec.py\n",
    "\n",
    "Нам потребуются файлы ```.lst``` для генерации ```.rec```. Чтобы их создать нужно:\n",
    "\n",
    "```python path_to_im2rec.py --list --recursive --train-ratio=0.9 --test-ratio=0.1 prefix path_to_images```\n",
    "\n",
    "Пояснение:\n",
    "* ```--list``` означает, что нам нужно сгенерировать файл ```.lst```\n",
    "* параметр ```--recursive``` включает рекурсивный проход по вложенным папкам и даёт файлам уникальные названия, в зависимости от папки, где они лежат\n",
    "* ```--train-ratio``` и ```--test-ratio``` отвечают за то, какой процент от имеющихся файлов будет отведён для обучения нейросети, а какой для валидации.\n",
    "* prefix - какой префикс будут иметь сгенерированные файлы\n",
    "* path_to_images - путь до папки с изображениями\n",
    "\n",
    "Пример для нашего случая:\n",
    "\n",
    "```python anaconda3/lib/python3.6/site-packages/mxnet/tools/im2rec.py --list --recursive --train-ratio=0.9 --test-ratio=0.1 mnist trainingSet/```\n",
    "\n",
    "Затем генерация .rec файла. Синтаксис:\n",
    "\n",
    "```python path_to_im2rec.py --color={-1,0,1} prefix path_to_images```\n",
    "\n",
    "Пояснения:\n",
    "* ```color``` - режим цвета для изображений. 1 - загружается полностью цвет изображения, прозрачность игнорируется, 0 - оттенки серого, -1 - Загружает изображение, включая альфа-канал.\n",
    "* prefix - префикс ```.lst``` файлов\n",
    "* path_to_images - путь до папки с изображениями, откуда генерировались ```.lst``` файлы.\n",
    "\n",
    "Наш случай:\n",
    "\n",
    "```python ~/anaconda3/lib/python3.6/site-packages/mxnet/tools/im2rec.py --color=0  mnist trainingSet/```\n",
    "\n",
    "В итоге файлы ```.rec``` должны в сумме иметь такой же объём, какой и у папки с изображениями.\n",
    "\n",
    "Можно приступать к созданию слоёв."
   ]
  },
  {
   "cell_type": "code",
   "execution_count": 10,
   "metadata": {},
   "outputs": [],
   "source": [
    "import mxnet as mx\n",
    "import logging\n",
    "\n",
    "logging.basicConfig(level=logging.INFO)"
   ]
  },
  {
   "cell_type": "code",
   "execution_count": 11,
   "metadata": {},
   "outputs": [],
   "source": [
    "data = mx.sym.Variable('data')\n",
    "data = mx.sym.Flatten(data=data)\n",
    "fc1  = mx.sym.FullyConnected(data=data, name='fc1', num_hidden=128)\n",
    "act1 = mx.sym.Activation(data=fc1, name='relu1', act_type=\"relu\")\n",
    "fc2  = mx.sym.FullyConnected(data=act1, name='fc2', num_hidden=10)\n",
    "mlp  = mx.sym.SoftmaxOutput(data=fc2, name='softmax')\n",
    "mod = mx.mod.Module(mlp)"
   ]
  },
  {
   "cell_type": "markdown",
   "metadata": {},
   "source": [
    "Воспользуемся специальным итератором по rec файлам. Один будет для тренировки нейросети, другой для валидации."
   ]
  },
  {
   "cell_type": "code",
   "execution_count": 12,
   "metadata": {},
   "outputs": [],
   "source": [
    "train_iter = mx.io.ImageRecordIter(path_imglist='./mnist_train.lst', \n",
    "                                   path_imgrec='./mnist_train.rec',\n",
    "                                   data_shape=(1, 28, 28), #кортеж формата (число каналов, высота, ширина)\n",
    "                                   batch_size=100)          #размер пакета\n",
    "\n",
    "valid_iter = mx.io.ImageRecordIter(path_imglist='./mnist_test.lst', \n",
    "                                   path_imgrec='./mnist_test.rec',\n",
    "                                   data_shape=(1, 28, 28),\n",
    "                                   batch_size=100)"
   ]
  },
  {
   "cell_type": "markdown",
   "metadata": {},
   "source": [
    "Попробуем запустить с такими параметрами."
   ]
  },
  {
   "cell_type": "code",
   "execution_count": 13,
   "metadata": {},
   "outputs": [
    {
     "name": "stderr",
     "output_type": "stream",
     "text": [
      "INFO:root:Epoch[0] Train-accuracy=0.110820\n",
      "INFO:root:Epoch[0] Time cost=0.730\n",
      "INFO:root:Epoch[0] Validation-accuracy=0.105476\n",
      "INFO:root:Epoch[1] Train-accuracy=0.112354\n",
      "INFO:root:Epoch[1] Time cost=0.917\n",
      "INFO:root:Epoch[1] Validation-accuracy=0.105476\n",
      "INFO:root:Epoch[2] Train-accuracy=0.112196\n",
      "INFO:root:Epoch[2] Time cost=0.758\n",
      "INFO:root:Epoch[2] Validation-accuracy=0.105476\n",
      "INFO:root:Epoch[3] Train-accuracy=0.112196\n",
      "INFO:root:Epoch[3] Time cost=1.030\n",
      "INFO:root:Epoch[3] Validation-accuracy=0.105476\n",
      "INFO:root:Epoch[4] Train-accuracy=0.112196\n",
      "INFO:root:Epoch[4] Time cost=0.941\n",
      "INFO:root:Epoch[4] Validation-accuracy=0.105476\n",
      "INFO:root:Epoch[5] Train-accuracy=0.112196\n",
      "INFO:root:Epoch[5] Time cost=1.092\n",
      "INFO:root:Epoch[5] Validation-accuracy=0.105476\n",
      "INFO:root:Epoch[6] Train-accuracy=0.112196\n",
      "INFO:root:Epoch[6] Time cost=1.238\n",
      "INFO:root:Epoch[6] Validation-accuracy=0.105476\n",
      "INFO:root:Epoch[7] Train-accuracy=0.112196\n",
      "INFO:root:Epoch[7] Time cost=1.056\n",
      "INFO:root:Epoch[7] Validation-accuracy=0.105476\n",
      "INFO:root:Epoch[8] Train-accuracy=0.112196\n",
      "INFO:root:Epoch[8] Time cost=0.883\n",
      "INFO:root:Epoch[8] Validation-accuracy=0.105476\n",
      "INFO:root:Epoch[9] Train-accuracy=0.112196\n",
      "INFO:root:Epoch[9] Time cost=1.246\n",
      "INFO:root:Epoch[9] Validation-accuracy=0.105476\n"
     ]
    }
   ],
   "source": [
    "mod.fit(train_data=train_iter,\n",
    "         eval_data=valid_iter,\n",
    "        initializer=mx.initializer.Xavier(magnitude=2.),\n",
    "        optimizer='sgd',\n",
    "        optimizer_params={'learning_rate': 0.1},\n",
    "        num_epoch=10)"
   ]
  },
  {
   "cell_type": "markdown",
   "metadata": {},
   "source": [
    "За 10 эпох сеть \"ничему\" не научилась. Изменим learning_rate на меньшее значение."
   ]
  },
  {
   "cell_type": "code",
   "execution_count": 14,
   "metadata": {},
   "outputs": [],
   "source": [
    "train_iter.reset()\n",
    "valid_iter.reset() #но сначала перезагрузим итераторы\n",
    "mod.init_optimizer(force_init=True, #чтобы присвоить новые параметры\n",
    "                   optimizer_params=(('learning_rate', 0.01),), \n",
    "                   optimizer='sgd')\n",
    "mod.init_params(force_init=True, \n",
    "                initializer=mx.initializer.Xavier(magnitude=2.))"
   ]
  },
  {
   "cell_type": "code",
   "execution_count": 15,
   "metadata": {},
   "outputs": [
    {
     "name": "stderr",
     "output_type": "stream",
     "text": [
      "WARNING:root:Already bound, ignoring bind()\n",
      "/home/gleb/anaconda3/lib/python3.6/site-packages/mxnet/module/base_module.py:464: UserWarning: Parameters already initialized and force_init=False. init_params call ignored.\n",
      "  allow_missing=allow_missing, force_init=force_init)\n",
      "WARNING:root:optimizer already initialized, ignoring...\n",
      "INFO:root:Epoch[0] Train-accuracy=0.413598\n",
      "INFO:root:Epoch[0] Time cost=1.259\n",
      "INFO:root:Epoch[0] Validation-accuracy=0.556667\n",
      "INFO:root:Epoch[1] Train-accuracy=0.579630\n",
      "INFO:root:Epoch[1] Time cost=1.039\n",
      "INFO:root:Epoch[1] Validation-accuracy=0.630714\n",
      "INFO:root:Epoch[2] Train-accuracy=0.550926\n",
      "INFO:root:Epoch[2] Time cost=1.089\n",
      "INFO:root:Epoch[2] Validation-accuracy=0.614048\n",
      "INFO:root:Epoch[3] Train-accuracy=0.632063\n",
      "INFO:root:Epoch[3] Time cost=0.828\n",
      "INFO:root:Epoch[3] Validation-accuracy=0.647381\n",
      "INFO:root:Epoch[4] Train-accuracy=0.648598\n",
      "INFO:root:Epoch[4] Time cost=1.235\n",
      "INFO:root:Epoch[4] Validation-accuracy=0.616429\n",
      "INFO:root:Epoch[5] Train-accuracy=0.604286\n",
      "INFO:root:Epoch[5] Time cost=0.998\n",
      "INFO:root:Epoch[5] Validation-accuracy=0.620238\n",
      "INFO:root:Epoch[6] Train-accuracy=0.634603\n",
      "INFO:root:Epoch[6] Time cost=1.266\n",
      "INFO:root:Epoch[6] Validation-accuracy=0.667143\n",
      "INFO:root:Epoch[7] Train-accuracy=0.676085\n",
      "INFO:root:Epoch[7] Time cost=1.037\n",
      "INFO:root:Epoch[7] Validation-accuracy=0.681429\n",
      "INFO:root:Epoch[8] Train-accuracy=0.700079\n",
      "INFO:root:Epoch[8] Time cost=1.031\n",
      "INFO:root:Epoch[8] Validation-accuracy=0.695000\n",
      "INFO:root:Epoch[9] Train-accuracy=0.717751\n",
      "INFO:root:Epoch[9] Time cost=1.188\n",
      "INFO:root:Epoch[9] Validation-accuracy=0.724286\n"
     ]
    }
   ],
   "source": [
    "mod.fit(train_data=train_iter,\n",
    "         eval_data=valid_iter,\n",
    "        num_epoch=10)"
   ]
  },
  {
   "cell_type": "markdown",
   "metadata": {},
   "source": [
    "Уменьшим ещё и дадим больше времени на обучение."
   ]
  },
  {
   "cell_type": "code",
   "execution_count": 18,
   "metadata": {},
   "outputs": [],
   "source": [
    "train_iter.reset()\n",
    "valid_iter.reset() \n",
    "mod.init_optimizer(force_init=True,\n",
    "                   optimizer_params=(('learning_rate', 0.001),), \n",
    "                   optimizer='sgd')\n",
    "mod.init_params(force_init=True, \n",
    "                initializer=mx.initializer.Xavier(magnitude=2.))"
   ]
  },
  {
   "cell_type": "code",
   "execution_count": 19,
   "metadata": {},
   "outputs": [
    {
     "name": "stderr",
     "output_type": "stream",
     "text": [
      "WARNING:root:Already bound, ignoring bind()\n",
      "/home/gleb/anaconda3/lib/python3.6/site-packages/mxnet/module/base_module.py:464: UserWarning: Parameters already initialized and force_init=False. init_params call ignored.\n",
      "  allow_missing=allow_missing, force_init=force_init)\n",
      "WARNING:root:optimizer already initialized, ignoring...\n",
      "INFO:root:Epoch[0] Train-accuracy=0.730556\n",
      "INFO:root:Epoch[0] Time cost=0.814\n",
      "INFO:root:Epoch[0] Validation-accuracy=0.804762\n",
      "INFO:root:Epoch[1] Train-accuracy=0.833360\n",
      "INFO:root:Epoch[1] Time cost=1.123\n",
      "INFO:root:Epoch[1] Validation-accuracy=0.842857\n",
      "INFO:root:Epoch[2] Train-accuracy=0.868730\n",
      "INFO:root:Epoch[2] Time cost=0.943\n",
      "INFO:root:Epoch[2] Validation-accuracy=0.873095\n",
      "INFO:root:Epoch[3] Train-accuracy=0.890000\n",
      "INFO:root:Epoch[3] Time cost=2.861\n",
      "INFO:root:Epoch[3] Validation-accuracy=0.882143\n",
      "INFO:root:Epoch[4] Train-accuracy=0.903862\n",
      "INFO:root:Epoch[4] Time cost=2.207\n",
      "INFO:root:Epoch[4] Validation-accuracy=0.889524\n",
      "INFO:root:Epoch[5] Train-accuracy=0.914180\n",
      "INFO:root:Epoch[5] Time cost=2.001\n",
      "INFO:root:Epoch[5] Validation-accuracy=0.893333\n",
      "INFO:root:Epoch[6] Train-accuracy=0.920794\n",
      "INFO:root:Epoch[6] Time cost=1.462\n",
      "INFO:root:Epoch[6] Validation-accuracy=0.900476\n",
      "INFO:root:Epoch[7] Train-accuracy=0.926905\n",
      "INFO:root:Epoch[7] Time cost=1.611\n",
      "INFO:root:Epoch[7] Validation-accuracy=0.905238\n",
      "INFO:root:Epoch[8] Train-accuracy=0.931376\n",
      "INFO:root:Epoch[8] Time cost=1.849\n",
      "INFO:root:Epoch[8] Validation-accuracy=0.907857\n",
      "INFO:root:Epoch[9] Train-accuracy=0.935873\n",
      "INFO:root:Epoch[9] Time cost=1.571\n",
      "INFO:root:Epoch[9] Validation-accuracy=0.910238\n",
      "INFO:root:Epoch[10] Train-accuracy=0.939312\n",
      "INFO:root:Epoch[10] Time cost=1.864\n",
      "INFO:root:Epoch[10] Validation-accuracy=0.914524\n",
      "INFO:root:Epoch[11] Train-accuracy=0.941958\n",
      "INFO:root:Epoch[11] Time cost=1.385\n",
      "INFO:root:Epoch[11] Validation-accuracy=0.915238\n",
      "INFO:root:Epoch[12] Train-accuracy=0.945000\n",
      "INFO:root:Epoch[12] Time cost=1.721\n",
      "INFO:root:Epoch[12] Validation-accuracy=0.918810\n",
      "INFO:root:Epoch[13] Train-accuracy=0.947407\n",
      "INFO:root:Epoch[13] Time cost=1.729\n",
      "INFO:root:Epoch[13] Validation-accuracy=0.920000\n",
      "INFO:root:Epoch[14] Train-accuracy=0.949630\n",
      "INFO:root:Epoch[14] Time cost=1.669\n",
      "INFO:root:Epoch[14] Validation-accuracy=0.919762\n",
      "INFO:root:Epoch[15] Train-accuracy=0.951720\n",
      "INFO:root:Epoch[15] Time cost=1.847\n",
      "INFO:root:Epoch[15] Validation-accuracy=0.921429\n",
      "INFO:root:Epoch[16] Train-accuracy=0.953519\n",
      "INFO:root:Epoch[16] Time cost=1.738\n",
      "INFO:root:Epoch[16] Validation-accuracy=0.922619\n",
      "INFO:root:Epoch[17] Train-accuracy=0.955450\n",
      "INFO:root:Epoch[17] Time cost=1.641\n",
      "INFO:root:Epoch[17] Validation-accuracy=0.925238\n",
      "INFO:root:Epoch[18] Train-accuracy=0.957116\n",
      "INFO:root:Epoch[18] Time cost=1.253\n",
      "INFO:root:Epoch[18] Validation-accuracy=0.925000\n",
      "INFO:root:Epoch[19] Train-accuracy=0.958466\n",
      "INFO:root:Epoch[19] Time cost=1.709\n",
      "INFO:root:Epoch[19] Validation-accuracy=0.926905\n",
      "INFO:root:Epoch[20] Train-accuracy=0.959392\n",
      "INFO:root:Epoch[20] Time cost=1.796\n",
      "INFO:root:Epoch[20] Validation-accuracy=0.928333\n",
      "INFO:root:Epoch[21] Train-accuracy=0.960397\n",
      "INFO:root:Epoch[21] Time cost=1.851\n",
      "INFO:root:Epoch[21] Validation-accuracy=0.928810\n",
      "INFO:root:Epoch[22] Train-accuracy=0.961534\n",
      "INFO:root:Epoch[22] Time cost=1.657\n",
      "INFO:root:Epoch[22] Validation-accuracy=0.928571\n",
      "INFO:root:Epoch[23] Train-accuracy=0.962857\n",
      "INFO:root:Epoch[23] Time cost=1.521\n",
      "INFO:root:Epoch[23] Validation-accuracy=0.929524\n",
      "INFO:root:Epoch[24] Train-accuracy=0.963704\n",
      "INFO:root:Epoch[24] Time cost=1.422\n",
      "INFO:root:Epoch[24] Validation-accuracy=0.930000\n"
     ]
    }
   ],
   "source": [
    "mod.fit(train_data=train_iter,\n",
    "         eval_data=valid_iter,\n",
    "        num_epoch=25)"
   ]
  },
  {
   "cell_type": "markdown",
   "metadata": {},
   "source": [
    "# В чём тут дело.\n",
    "\n",
    "learning rate - это то, как нейросеть быстро отвергает то, чему она научилась, в угоду новому.\n",
    "\n",
    "Если ребёнок увидит 10 кошек с оранжевой шерстью, то будет думать, что это их отличительная черта, и в попытке узнать кота, начнёт искать оранжевую шерсть. Теперь он увидит чёрную кошку и родители скажут, что это кошка (учение под присмотром - supervised learning). С большим \"learning rate\", он быстро осознает, что \"рыжая шерсть\" не самый важный \"параметр\", свойство кошек. С маленьим learning rate он будет думать, что чёрная кошка просто \"выброс\", и кошки продолжают быть оранжевыми.\n",
    "\n",
    "Высокое значение скорости обучения может быть подходящим для описанного случчая. Но если оно будет слишком высоким, то ребёнок может начать думать, что все кошки чёрные, даже увидев до этого много рыжих.\n",
    "\n",
    "## По-другому\n",
    "Нейронная сеть тренируется применяя к весам метод градиентного спуска. Это значит, что каждую итерацию мы будем использовать обратное рапсротранение, чтобы посчитать производную функции потерь по каждому весу и вычесть из текущего веса. Если попробовать это сделать, веса будут меняться очень сильно на каждом шаге, что сделает их неверными и потери возрастут. На практике, люди умножают каждую производную на малое значение, learning rate или скорость обучения, до того как вычитать."
   ]
  }
 ],
 "metadata": {
  "kernelspec": {
   "display_name": "Python 3",
   "language": "python",
   "name": "python3"
  },
  "language_info": {
   "codemirror_mode": {
    "name": "ipython",
    "version": 3
   },
   "file_extension": ".py",
   "mimetype": "text/x-python",
   "name": "python",
   "nbconvert_exporter": "python",
   "pygments_lexer": "ipython3",
   "version": "3.6.5"
  }
 },
 "nbformat": 4,
 "nbformat_minor": 2
}
