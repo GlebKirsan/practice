{
 "cells": [
  {
   "cell_type": "markdown",
   "metadata": {
    "colab_type": "text",
    "id": "XpFkvcyrtI_C"
   },
   "source": [
    "# Установим MXNet"
   ]
  },
  {
   "cell_type": "code",
   "execution_count": 0,
   "metadata": {
    "colab": {
     "autoexec": {
      "startup": false,
      "wait_interval": 0
     },
     "base_uri": "https://localhost:8080/",
     "height": 269
    },
    "colab_type": "code",
    "executionInfo": {
     "elapsed": 16118,
     "status": "ok",
     "timestamp": 1531070181732,
     "user": {
      "displayName": "Глеб Кирсанов",
      "photoUrl": "https://lh3.googleusercontent.com/a/default-user=s128",
      "userId": "108640698260449341450"
     },
     "user_tz": -180
    },
    "id": "zoOuHPhDtDb6",
    "outputId": "cdcab079-ce3c-4bfe-f122-dfc42bd5d92e"
   },
   "outputs": [
    {
     "name": "stdout",
     "output_type": "stream",
     "text": [
      "Collecting mxnet-cu80\r\n",
      "\u001b[33m  Cache entry deserialization failed, entry ignored\u001b[0m\n",
      "  Using cached https://files.pythonhosted.org/packages/85/48/85d4295017a67325499c5293dcee334ed40004e5ff0e1d3ffbaac266889a/mxnet_cu80-1.2.0-py2.py3-none-manylinux1_x86_64.whl\n",
      "Requirement already satisfied: numpy<1.15.0,>=1.8.2 in /usr/local/lib/python3.6/dist-packages (from mxnet-cu80) (1.14.5)\n",
      "Collecting graphviz<0.9.0,>=0.8.1 (from mxnet-cu80)\n",
      "\u001b[33m  Cache entry deserialization failed, entry ignored\u001b[0m\n",
      "  Using cached https://files.pythonhosted.org/packages/53/39/4ab213673844e0c004bed8a0781a0721a3f6bb23eb8854ee75c236428892/graphviz-0.8.4-py2.py3-none-any.whl\n",
      "Requirement already satisfied: requests<2.19.0,>=2.18.4 in /usr/local/lib/python3.6/dist-packages (from mxnet-cu80) (2.18.4)\n",
      "Requirement already satisfied: idna<2.7,>=2.5 in /usr/local/lib/python3.6/dist-packages (from requests<2.19.0,>=2.18.4->mxnet-cu80) (2.6)\n",
      "Requirement already satisfied: chardet<3.1.0,>=3.0.2 in /usr/local/lib/python3.6/dist-packages (from requests<2.19.0,>=2.18.4->mxnet-cu80) (3.0.4)\n",
      "Requirement already satisfied: certifi>=2017.4.17 in /usr/local/lib/python3.6/dist-packages (from requests<2.19.0,>=2.18.4->mxnet-cu80) (2018.4.16)\n",
      "Requirement already satisfied: urllib3<1.23,>=1.21.1 in /usr/local/lib/python3.6/dist-packages (from requests<2.19.0,>=2.18.4->mxnet-cu80) (1.22)\n",
      "Installing collected packages: graphviz, mxnet-cu80\n",
      "Successfully installed graphviz-0.8.4 mxnet-cu80-1.2.0\n"
     ]
    }
   ],
   "source": [
    "!pip install mxnet"
   ]
  },
  {
   "cell_type": "markdown",
   "metadata": {
    "colab_type": "text",
    "id": "Z8J5OaEOtbKr"
   },
   "source": [
    "# Dataflow programming\n",
    "**Dataflow programming** - гибкий способ задвать параллельные вычисления, где данные \"текут\" через граф. Граф задаёт порядок операций, то есть - нужно ли их запускать последовательно или параллельно. Каждая операция - **чёрный ящик**: мы только задаём входные и выходные данные, без уточнения их \"поведения\".\n",
    "\n",
    "Может звучать как научно-кмопьютерная мумбо-юмба, но эта модель то, что нам нужно для создания нейросети: дать данным проходить определённую последовательность операций, называемых \"слои\", с каждым слоем, выполняющим инструкции параллельно.\n",
    "\n",
    "Пример, вот как мы определим Е, как $(A \\cdot B) + (C \\cdot D)$ ![alt text](https://cdn-images-1.medium.com/max/800/1*h0M4n_9FPyriCwT-LjE0HQ.png)\n",
    "> Что такое A, B, C и D на данном этапе не важно. Они - **символы**.\n",
    "\n",
    "Не имеет значение, каков тип входных данных (числа, векторы, матрицы и т.д.), этот граф говорит, как посчитать выходное значение - предоставляя операции \"+\" и $\\cdot$.\n",
    "> Граф также говорит, что $(A \\cdot B) $ и $ (C \\cdot D)$ могут быть вычислены **параллельно**.\n",
    "\n",
    "MXNet будет использовать эту информацию для оптимизации.\n",
    "\n",
    "# Символы\n",
    "Теперь мы знаем, почему эти штуки зовутся символами. Взглянем на пример кода."
   ]
  },
  {
   "cell_type": "code",
   "execution_count": 0,
   "metadata": {
    "colab": {
     "autoexec": {
      "startup": false,
      "wait_interval": 0
     }
    },
    "colab_type": "code",
    "id": "xxjGVEv8tS2z"
   },
   "outputs": [],
   "source": [
    "import mxnet as mx\n",
    "\n",
    "a = mx.symbol.Variable('A')\n",
    "b = mx.symbol.Variable('B')\n",
    "c = mx.symbol.Variable('C')\n",
    "d = mx.symbol.Variable('D')\n",
    "e = (a * b) + (c * d)"
   ]
  },
  {
   "cell_type": "markdown",
   "metadata": {
    "colab_type": "text",
    "id": "wk-nvlqmwGqq"
   },
   "source": [
    "Мы можем присвоить результат е без знания, чем являются a, b, c и d. Продолжим."
   ]
  },
  {
   "cell_type": "code",
   "execution_count": 0,
   "metadata": {
    "colab": {
     "autoexec": {
      "startup": false,
      "wait_interval": 0
     },
     "base_uri": "https://localhost:8080/",
     "height": 71
    },
    "colab_type": "code",
    "executionInfo": {
     "elapsed": 583,
     "status": "ok",
     "timestamp": 1531070187108,
     "user": {
      "displayName": "Глеб Кирсанов",
      "photoUrl": "https://lh3.googleusercontent.com/a/default-user=s128",
      "userId": "108640698260449341450"
     },
     "user_tz": -180
    },
    "id": "HoRPugV9wDmx",
    "outputId": "52834f9d-b384-4121-e941-3e424ce33ae1"
   },
   "outputs": [
    {
     "name": "stdout",
     "output_type": "stream",
     "text": [
      "<Symbol A> <Symbol B> <Symbol C> <Symbol D>\n",
      "<Symbol _plus0>\n",
      "<class 'mxnet.symbol.symbol.Symbol'>\n"
     ]
    }
   ],
   "source": [
    "print(a, b, c, d)\n",
    "print(e)\n",
    "print(type(e))"
   ]
  },
  {
   "cell_type": "markdown",
   "metadata": {
    "colab_type": "text",
    "id": "Vsogm3gUwau0"
   },
   "source": [
    "a, b, c и d - символы, как мы явно и указали. е не такой: это тоже символ, но он - результат '+' операции. Посмотрим, что можно ещё узнать."
   ]
  },
  {
   "cell_type": "code",
   "execution_count": 0,
   "metadata": {
    "colab": {
     "autoexec": {
      "startup": false,
      "wait_interval": 0
     },
     "base_uri": "https://localhost:8080/",
     "height": 71
    },
    "colab_type": "code",
    "executionInfo": {
     "elapsed": 488,
     "status": "ok",
     "timestamp": 1531070187726,
     "user": {
      "displayName": "Глеб Кирсанов",
      "photoUrl": "https://lh3.googleusercontent.com/a/default-user=s128",
      "userId": "108640698260449341450"
     },
     "user_tz": -180
    },
    "id": "JVI8miOwwW1v",
    "outputId": "1d7fdfb6-6dde-4cd6-c80b-de346634dcce"
   },
   "outputs": [
    {
     "name": "stdout",
     "output_type": "stream",
     "text": [
      "['A', 'B', 'C', 'D']\n",
      "['_plus0_output']\n",
      "['A', 'B', '_mul0_output', 'C', 'D', '_mul1_output', '_plus0_output']\n"
     ]
    }
   ],
   "source": [
    "print(e.list_arguments())\n",
    "print(e.list_outputs())\n",
    "print(e.get_internals().list_outputs())"
   ]
  },
  {
   "cell_type": "markdown",
   "metadata": {
    "colab_type": "text",
    "id": "f3xtootkw4ds"
   },
   "source": [
    "Что это нам говорит:\n",
    "* е зависит от переменных a, b, c  и d;\n",
    "* операция, из которой получается e,- сложение\n",
    "* e - это ни что иное, как $(a \\cdot b) + (c \\cdot d)$\n",
    "\n",
    "Теперь попробуем применить это на практике.\n",
    "\n",
    "# Связывание NDArrays и Символов\n",
    "> Применение шагов для вычислений определённых через символы, к данным, хранящимся в NDArrays, требует операции под названием \"привязка\" (binding).\n",
    "Продолжим с примером сверху. Здесь я присвою 'A' - 1, 'B' - 2, 'C' - 3, 'D' - 4, вот почему я создаю 4 массива, содержащих одно целое число.\n"
   ]
  },
  {
   "cell_type": "code",
   "execution_count": 0,
   "metadata": {
    "colab": {
     "autoexec": {
      "startup": false,
      "wait_interval": 0
     }
    },
    "colab_type": "code",
    "id": "MwelAU4Ow2Ts"
   },
   "outputs": [],
   "source": [
    "import numpy as np"
   ]
  },
  {
   "cell_type": "code",
   "execution_count": 0,
   "metadata": {
    "colab": {
     "autoexec": {
      "startup": false,
      "wait_interval": 0
     }
    },
    "colab_type": "code",
    "id": "vXiJVEuYyfQF"
   },
   "outputs": [],
   "source": [
    "a_data = mx.nd.array([1], dtype=np.int32)\n",
    "b_data = mx.nd.array([2], dtype=np.int32)\n",
    "c_data = mx.nd.array([3], dtype=np.int32)\n",
    "d_data = mx.nd.array([4], dtype=np.int32)"
   ]
  },
  {
   "cell_type": "markdown",
   "metadata": {
    "colab_type": "text",
    "id": "wdFWtsZ0yrqe"
   },
   "source": [
    "Дальше свяжем каждый массив с соотвествующим Символом. Заметьте, что мне нужно выбрать **context** (CPU или GPU), где будут происходить вычисления."
   ]
  },
  {
   "cell_type": "code",
   "execution_count": 0,
   "metadata": {
    "colab": {
     "autoexec": {
      "startup": false,
      "wait_interval": 0
     },
     "base_uri": "https://localhost:8080/",
     "height": 35
    },
    "colab_type": "code",
    "executionInfo": {
     "elapsed": 655,
     "status": "ok",
     "timestamp": 1531070190084,
     "user": {
      "displayName": "Глеб Кирсанов",
      "photoUrl": "https://lh3.googleusercontent.com/a/default-user=s128",
      "userId": "108640698260449341450"
     },
     "user_tz": -180
    },
    "id": "4rFa5SvLyp0v",
    "outputId": "f480bcec-41cb-4466-edd0-07b2124f5f6a"
   },
   "outputs": [
    {
     "name": "stdout",
     "output_type": "stream",
     "text": [
      "<mxnet.executor.Executor object at 0x7fd29af1eda0>\n"
     ]
    }
   ],
   "source": [
    "executor = e.bind(ctx=mx.cpu(), args={'A': a_data, 'B': b_data, 'C': c_data, \n",
    "                                      'D': d_data})\n",
    "print(executor)"
   ]
  },
  {
   "cell_type": "markdown",
   "metadata": {
    "colab_type": "text",
    "id": "_dceDpLN0VkN"
   },
   "source": [
    "Теперь пришло время прогнать входные данные через граф, чтобы получить результат: функция ```forward()``` с этим поможет. Она возвращает массив NDArrays, т.к. граф может иметь множество результатов. Здесь же у нас единственный вывод, содержащий число 14, что как раз есть $(1 \\cdot 2) + (3 \\cdot 4)$."
   ]
  },
  {
   "cell_type": "code",
   "execution_count": 0,
   "metadata": {
    "colab": {
     "autoexec": {
      "startup": false,
      "wait_interval": 0
     },
     "base_uri": "https://localhost:8080/",
     "height": 125
    },
    "colab_type": "code",
    "executionInfo": {
     "elapsed": 564,
     "status": "ok",
     "timestamp": 1531070190807,
     "user": {
      "displayName": "Глеб Кирсанов",
      "photoUrl": "https://lh3.googleusercontent.com/a/default-user=s128",
      "userId": "108640698260449341450"
     },
     "user_tz": -180
    },
    "id": "JyEyhLNYzZvm",
    "outputId": "17fcd382-c0cc-43c7-f2aa-9ec312e6f863"
   },
   "outputs": [
    {
     "name": "stdout",
     "output_type": "stream",
     "text": [
      "[\n",
      "[14]\n",
      "<NDArray 1 @cpu(0)>]\n",
      "\n",
      "[14]\n",
      "<NDArray 1 @cpu(0)>\n"
     ]
    }
   ],
   "source": [
    "e_data = executor.forward()\n",
    "print(e_data)\n",
    "print(e_data[0])"
   ]
  },
  {
   "cell_type": "markdown",
   "metadata": {
    "colab_type": "text",
    "id": "yh4b0Pau1mcc"
   },
   "source": [
    "Попробуем применить тот же самый граф к четырём матрицам 1000х1000, заполненных рандомными числами от 0 до 1. Всё, что нам нужно сделать, так это определить новые входные данные: связывание и вычисления те же самые."
   ]
  },
  {
   "cell_type": "code",
   "execution_count": 0,
   "metadata": {
    "colab": {
     "autoexec": {
      "startup": false,
      "wait_interval": 0
     }
    },
    "colab_type": "code",
    "id": "f_FfDoWT1Hpv"
   },
   "outputs": [],
   "source": [
    "a_data = mx.nd.uniform(low=0, high=1, shape=(1000, 1000))\n",
    "b_data = mx.nd.uniform(low=0, high=1, shape=(1000, 1000))\n",
    "c_data = mx.nd.uniform(low=0, high=1, shape=(1000, 1000))\n",
    "d_data = mx.nd.uniform(low=0, high=1, shape=(1000, 1000))\n",
    "\n",
    "executor = e.bind(ctx=mx.cpu(), args={'A': a_data, 'B': b_data, 'C': c_data, \n",
    "                                      'D': d_data})\n",
    "e_data = executor.forward()"
   ]
  },
  {
   "cell_type": "code",
   "execution_count": 0,
   "metadata": {
    "colab": {
     "autoexec": {
      "startup": false,
      "wait_interval": 0
     },
     "base_uri": "https://localhost:8080/",
     "height": 179
    },
    "colab_type": "code",
    "executionInfo": {
     "elapsed": 1051,
     "status": "ok",
     "timestamp": 1531070192940,
     "user": {
      "displayName": "Глеб Кирсанов",
      "photoUrl": "https://lh3.googleusercontent.com/a/default-user=s128",
      "userId": "108640698260449341450"
     },
     "user_tz": -180
    },
    "id": "fBP4ybw32MUI",
    "outputId": "f946a4bd-5674-48f9-89a4-88998c3e8bd2"
   },
   "outputs": [
    {
     "name": "stdout",
     "output_type": "stream",
     "text": [
      "[\n",
      "[[0.1977522  0.58930916 0.9957535  ... 0.28916416 0.3330607  0.5123714 ]\n",
      " [0.07656978 0.5997503  0.55926484 ... 0.38490385 0.36591023 0.45478362]\n",
      " [0.39658463 0.17304057 0.54193836 ... 0.816297   0.7078872  0.52949476]\n",
      " ...\n",
      " [0.28478235 0.57425654 0.5903597  ... 0.2610643  0.82782537 0.73320323]\n",
      " [0.42121097 0.6792569  0.82689947 ... 0.06357475 0.21329054 0.6004921 ]\n",
      " [0.84038836 0.43226227 0.25343633 ... 0.9770783  0.5826757  0.32416496]]\n",
      "<NDArray 1000x1000 @cpu(0)>]\n"
     ]
    }
   ],
   "source": [
    "print(e_data)"
   ]
  },
  {
   "cell_type": "code",
   "execution_count": 0,
   "metadata": {
    "colab": {
     "autoexec": {
      "startup": false,
      "wait_interval": 0
     },
     "base_uri": "https://localhost:8080/",
     "height": 179
    },
    "colab_type": "code",
    "executionInfo": {
     "elapsed": 631,
     "status": "ok",
     "timestamp": 1531070193679,
     "user": {
      "displayName": "Глеб Кирсанов",
      "photoUrl": "https://lh3.googleusercontent.com/a/default-user=s128",
      "userId": "108640698260449341450"
     },
     "user_tz": -180
    },
    "id": "pMWd30qp2cbA",
    "outputId": "4576a1d2-2ebf-46de-9204-8436975a1b0d"
   },
   "outputs": [
    {
     "name": "stdout",
     "output_type": "stream",
     "text": [
      "\n",
      "[[0.1977522  0.58930916 0.9957535  ... 0.28916416 0.3330607  0.5123714 ]\n",
      " [0.07656978 0.5997503  0.55926484 ... 0.38490385 0.36591023 0.45478362]\n",
      " [0.39658463 0.17304057 0.54193836 ... 0.816297   0.7078872  0.52949476]\n",
      " ...\n",
      " [0.28478235 0.57425654 0.5903597  ... 0.2610643  0.82782537 0.73320323]\n",
      " [0.42121097 0.6792569  0.82689947 ... 0.06357475 0.21329054 0.6004921 ]\n",
      " [0.84038836 0.43226227 0.25343633 ... 0.9770783  0.5826757  0.32416496]]\n",
      "<NDArray 1000x1000 @cpu(0)>\n"
     ]
    }
   ],
   "source": [
    "print(e_data[0])"
   ]
  },
  {
   "cell_type": "code",
   "execution_count": 0,
   "metadata": {
    "colab": {
     "autoexec": {
      "startup": false,
      "wait_interval": 0
     },
     "base_uri": "https://localhost:8080/",
     "height": 143
    },
    "colab_type": "code",
    "executionInfo": {
     "elapsed": 878,
     "status": "ok",
     "timestamp": 1531070194693,
     "user": {
      "displayName": "Глеб Кирсанов",
      "photoUrl": "https://lh3.googleusercontent.com/a/default-user=s128",
      "userId": "108640698260449341450"
     },
     "user_tz": -180
    },
    "id": "EbonfWZy2dkj",
    "outputId": "7692c346-b37a-4b5b-f028-256ca25b9b5c"
   },
   "outputs": [
    {
     "name": "stdout",
     "output_type": "stream",
     "text": [
      "[[0.1977522  0.58930916 0.9957535  ... 0.28916416 0.3330607  0.5123714 ]\n",
      " [0.07656978 0.5997503  0.55926484 ... 0.38490385 0.36591023 0.45478362]\n",
      " [0.39658463 0.17304057 0.54193836 ... 0.816297   0.7078872  0.52949476]\n",
      " ...\n",
      " [0.28478235 0.57425654 0.5903597  ... 0.2610643  0.82782537 0.73320323]\n",
      " [0.42121097 0.6792569  0.82689947 ... 0.06357475 0.21329054 0.6004921 ]\n",
      " [0.84038836 0.43226227 0.25343633 ... 0.9770783  0.5826757  0.32416496]]\n"
     ]
    }
   ],
   "source": [
    "print(e_data[0].asnumpy())"
   ]
  }
 ],
 "metadata": {
  "accelerator": "GPU",
  "colab": {
   "default_view": {},
   "name": "7.0 Введение в MXNet - Символы.ipynb",
   "provenance": [],
   "version": "0.3.2",
   "views": {}
  },
  "kernelspec": {
   "display_name": "Python 3",
   "language": "python",
   "name": "python3"
  },
  "language_info": {
   "codemirror_mode": {
    "name": "ipython",
    "version": 3
   },
   "file_extension": ".py",
   "mimetype": "text/x-python",
   "name": "python",
   "nbconvert_exporter": "python",
   "pygments_lexer": "ipython3",
   "version": "3.6.5"
  }
 },
 "nbformat": 4,
 "nbformat_minor": 1
}
