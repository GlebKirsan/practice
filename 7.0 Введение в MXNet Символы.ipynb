{
 "cells": [
  {
   "cell_type": "markdown",
   "metadata": {
    "colab_type": "text",
    "id": "XpFkvcyrtI_C"
   },
   "source": [
    "# Установим MXNet"
   ]
  },
  {
   "cell_type": "code",
   "execution_count": 8,
   "metadata": {
    "colab": {
     "autoexec": {
      "startup": false,
      "wait_interval": 0
     },
     "base_uri": "https://localhost:8080/",
     "height": 271
    },
    "colab_type": "code",
    "executionInfo": {
     "elapsed": 32994,
     "status": "ok",
     "timestamp": 1531067084523,
     "user": {
      "displayName": "Глеб Кирсанов",
      "photoUrl": "https://lh3.googleusercontent.com/a/default-user=s128",
      "userId": "108640698260449341450"
     },
     "user_tz": -180
    },
    "id": "zoOuHPhDtDb6",
    "outputId": "b41a624b-adef-4a5b-984a-259f5312d99e"
   },
   "outputs": [
    {
     "name": "stdout",
     "output_type": "stream",
     "text": [
      "Collecting mxnet\n",
      "\u001b[?25l  Downloading https://files.pythonhosted.org/packages/45/0e/507d59a4c409c005326a6535e1513828e59b83ea2afb7ae449d14542c6bb/mxnet-1.2.0-py2.py3-none-manylinux1_x86_64.whl (26.1MB)\n",
      "\u001b[K    100% |████████████████████████████████| 26.1MB 1.2MB/s ta 0:00:011\n",
      "\u001b[?25hRequirement already satisfied: numpy<1.15.0,>=1.8.2 in /home/gleb/anaconda3/lib/python3.6/site-packages (from mxnet) (1.14.3)\n",
      "Requirement already satisfied: requests<2.19.0,>=2.18.4 in /home/gleb/anaconda3/lib/python3.6/site-packages (from mxnet) (2.18.4)\n",
      "Requirement already satisfied: graphviz<0.9.0,>=0.8.1 in /home/gleb/anaconda3/lib/python3.6/site-packages (from mxnet) (0.8.4)\n",
      "Requirement already satisfied: chardet<3.1.0,>=3.0.2 in /home/gleb/anaconda3/lib/python3.6/site-packages (from requests<2.19.0,>=2.18.4->mxnet) (3.0.4)\n",
      "Requirement already satisfied: idna<2.7,>=2.5 in /home/gleb/anaconda3/lib/python3.6/site-packages (from requests<2.19.0,>=2.18.4->mxnet) (2.6)\n",
      "Requirement already satisfied: urllib3<1.23,>=1.21.1 in /home/gleb/anaconda3/lib/python3.6/site-packages (from requests<2.19.0,>=2.18.4->mxnet) (1.22)\n",
      "Requirement already satisfied: certifi>=2017.4.17 in /home/gleb/anaconda3/lib/python3.6/site-packages (from requests<2.19.0,>=2.18.4->mxnet) (2018.4.16)\n",
      "Installing collected packages: mxnet\n",
      "Successfully installed mxnet-1.2.0\n"
     ]
    }
   ],
   "source": [
    "!pip install mxnet"
   ]
  },
  {
   "cell_type": "markdown",
   "metadata": {
    "colab_type": "text",
    "id": "Z8J5OaEOtbKr"
   },
   "source": [
    "# Dataflow programming\n",
    "**Dataflow programming** - гибкий способ задвать параллельные вычисления, где данные \"текут\" через граф. Граф задаёт порядок операций, то есть - нужно ли их запускать последовательно или параллельно. Каждая операция - **чёрный ящик**: мы только задаём входные и выходные данные, без уточнения их \"поведения\".\n",
    "\n",
    "Может звучать как научно-кмопьютерная мумбо-юмба, но эта модель то, что нам нужно для создания нейросети: дать данным проходить определённую последовательность операций, называемых \"слои\", с каждым слоем, выполняющим инструкции параллельно.\n",
    "\n",
    "Пример, вот как мы определим Е, как $(A \\cdot B) + (C \\cdot D)$ ![alt text](https://cdn-images-1.medium.com/max/800/1*h0M4n_9FPyriCwT-LjE0HQ.png)\n",
    "> Что такое A, B, C и D на данном этапе не важно. Они - **символы**.\n",
    "\n",
    "Не имеет значение, каков тип входных данных (числа, векторы, матрицы и т.д.), этот граф говорит, как посчитать выходное значение - предоставляя операции \"+\" и $\\cdot$.\n",
    "> Граф также говорит, что $(A \\cdot B) $ и $ (C \\cdot D)$ могут быть вычислены **параллельно**.\n",
    "\n",
    "MXNet будет использовать эту информацию для оптимизации.\n",
    "\n",
    "# Символы\n",
    "Теперь мы знаем, почему эти штуки зовутся символами. Взглянем на пример кода."
   ]
  },
  {
   "cell_type": "code",
   "execution_count": 9,
   "metadata": {
    "colab": {
     "autoexec": {
      "startup": false,
      "wait_interval": 0
     }
    },
    "colab_type": "code",
    "id": "xxjGVEv8tS2z"
   },
   "outputs": [
    {
     "name": "stderr",
     "output_type": "stream",
     "text": [
      "/home/gleb/anaconda3/lib/python3.6/site-packages/h5py/__init__.py:36: FutureWarning: Conversion of the second argument of issubdtype from `float` to `np.floating` is deprecated. In future, it will be treated as `np.float64 == np.dtype(float).type`.\n",
      "  from ._conv import register_converters as _register_converters\n"
     ]
    }
   ],
   "source": [
    "import mxnet as mx\n",
    "\n",
    "\n",
    "a = mx.symbol.Variable('A')\n",
    "b = mx.symbol.Variable('B')\n",
    "c = mx.symbol.Variable('C')\n",
    "d = mx.symbol.Variable('D')\n",
    "e = (a * b) + (c * d)"
   ]
  },
  {
   "cell_type": "markdown",
   "metadata": {
    "colab_type": "text",
    "id": "wk-nvlqmwGqq"
   },
   "source": [
    "Мы можем присвоить результат е без знания, чем являются a, b, c и d. Продолжим."
   ]
  },
  {
   "cell_type": "code",
   "execution_count": 10,
   "metadata": {
    "colab": {
     "autoexec": {
      "startup": false,
      "wait_interval": 0
     },
     "base_uri": "https://localhost:8080/",
     "height": 71
    },
    "colab_type": "code",
    "executionInfo": {
     "elapsed": 565,
     "status": "ok",
     "timestamp": 1531067854846,
     "user": {
      "displayName": "Глеб Кирсанов",
      "photoUrl": "https://lh3.googleusercontent.com/a/default-user=s128",
      "userId": "108640698260449341450"
     },
     "user_tz": -180
    },
    "id": "HoRPugV9wDmx",
    "outputId": "239f1da9-8b69-4fe0-f0fc-f5c5baf50656"
   },
   "outputs": [
    {
     "name": "stdout",
     "output_type": "stream",
     "text": [
      "<Symbol A> <Symbol B> <Symbol C> <Symbol D>\n",
      "<Symbol _plus0>\n",
      "<class 'mxnet.symbol.symbol.Symbol'>\n"
     ]
    }
   ],
   "source": [
    "print(a, b, c, d)\n",
    "print(e)\n",
    "print(type(e))"
   ]
  },
  {
   "cell_type": "markdown",
   "metadata": {
    "colab_type": "text",
    "id": "Vsogm3gUwau0"
   },
   "source": [
    "a, b, c и d - символы, как мы явно и указали. е не такой: это тоже символ, но он - результат '+' операции. Посмотрим, что можно ещё узнать."
   ]
  },
  {
   "cell_type": "code",
   "execution_count": 11,
   "metadata": {
    "colab": {
     "autoexec": {
      "startup": false,
      "wait_interval": 0
     },
     "base_uri": "https://localhost:8080/",
     "height": 71
    },
    "colab_type": "code",
    "executionInfo": {
     "elapsed": 814,
     "status": "ok",
     "timestamp": 1531067983955,
     "user": {
      "displayName": "Глеб Кирсанов",
      "photoUrl": "https://lh3.googleusercontent.com/a/default-user=s128",
      "userId": "108640698260449341450"
     },
     "user_tz": -180
    },
    "id": "JVI8miOwwW1v",
    "outputId": "f443540a-6043-4840-e24f-6984f4ce1bb7"
   },
   "outputs": [
    {
     "name": "stdout",
     "output_type": "stream",
     "text": [
      "['A', 'B', 'C', 'D']\n",
      "['_plus0_output']\n",
      "['A', 'B', '_mul0_output', 'C', 'D', '_mul1_output', '_plus0_output']\n"
     ]
    }
   ],
   "source": [
    "print(e.list_arguments())\n",
    "print(e.list_outputs())\n",
    "print(e.get_internals().list_outputs())"
   ]
  },
  {
   "cell_type": "markdown",
   "metadata": {
    "colab_type": "text",
    "id": "f3xtootkw4ds"
   },
   "source": [
    "Что это нам говорит:\n",
    "* е зависит от переменных a, b, c  и d;\n",
    "* операция, из которой получается e,- сложение\n",
    "* e - это ни что иное, как $(a \\cdot b) + (c \\cdot d)$\n",
    "\n",
    "Теперь попробуем применить это на практике.\n",
    "\n",
    "# Связывание NDArrays и Символов\n",
    "> Применение шагов для вычислений определённых через символы, к данным, хранящимся в NDArrays, требует операции под названием \"привязка\" (binding).\n",
    "Продолжим с примером сверху. Здесь я присвою 'A' - 1, 'B' - 2, 'C' - 3, 'D' - 4, вот почему я создаю 4 массива, содержащих одно целое число.\n"
   ]
  },
  {
   "cell_type": "code",
   "execution_count": 12,
   "metadata": {
    "colab": {
     "autoexec": {
      "startup": false,
      "wait_interval": 0
     }
    },
    "colab_type": "code",
    "id": "MwelAU4Ow2Ts"
   },
   "outputs": [],
   "source": [
    "import numpy as np"
   ]
  },
  {
   "cell_type": "code",
   "execution_count": 13,
   "metadata": {
    "colab": {
     "autoexec": {
      "startup": false,
      "wait_interval": 0
     }
    },
    "colab_type": "code",
    "id": "vXiJVEuYyfQF"
   },
   "outputs": [],
   "source": [
    "a_data = mx.nd.array([1], dtype=np.int32)\n",
    "b_data = mx.nd.array([2], dtype=np.int32)\n",
    "c_data = mx.nd.array([3], dtype=np.int32)\n",
    "d_data = mx.nd.array([4], dtype=np.int32)"
   ]
  },
  {
   "cell_type": "markdown",
   "metadata": {
    "colab_type": "text",
    "id": "wdFWtsZ0yrqe"
   },
   "source": [
    "Дальше свяжем каждый массив с соотвествующим Символом. Заметьте, что мне нужно выбрать **context** (CPU или GPU), где будут происходить вычисления."
   ]
  },
  {
   "cell_type": "code",
   "execution_count": 14,
   "metadata": {
    "colab": {
     "autoexec": {
      "startup": false,
      "wait_interval": 0
     },
     "base_uri": "https://localhost:8080/",
     "height": 35
    },
    "colab_type": "code",
    "executionInfo": {
     "elapsed": 616,
     "status": "ok",
     "timestamp": 1531068870578,
     "user": {
      "displayName": "Глеб Кирсанов",
      "photoUrl": "https://lh3.googleusercontent.com/a/default-user=s128",
      "userId": "108640698260449341450"
     },
     "user_tz": -180
    },
    "id": "4rFa5SvLyp0v",
    "outputId": "2490743a-6805-4ac1-d32f-41bf7a025b5f"
   },
   "outputs": [
    {
     "name": "stdout",
     "output_type": "stream",
     "text": [
      "<mxnet.executor.Executor object at 0x7f59dcf41358>\n"
     ]
    }
   ],
   "source": [
    "executor = e.bind(ctx=mx.cpu(), args={'A': a_data, 'B': b_data, 'C': c_data, \n",
    "                                      'D': d_data})\n",
    "print(executor)"
   ]
  },
  {
   "cell_type": "markdown",
   "metadata": {
    "colab_type": "text",
    "id": "_dceDpLN0VkN"
   },
   "source": [
    "Теперь пришло время прогнать входные данные через граф, чтобы получить результат: функция ```forward()``` с этим поможет. Она возвращает массив NDArrays, т.к. граф может иметь множество результатов. Здесь же у нас единственный вывод, содержащий число 14, что как раз есть $(1 \\cdot 2) + (3 \\cdot 4)$."
   ]
  },
  {
   "cell_type": "code",
   "execution_count": 15,
   "metadata": {
    "colab": {
     "autoexec": {
      "startup": false,
      "wait_interval": 0
     },
     "base_uri": "https://localhost:8080/",
     "height": 125
    },
    "colab_type": "code",
    "executionInfo": {
     "elapsed": 611,
     "status": "ok",
     "timestamp": 1531069225895,
     "user": {
      "displayName": "Глеб Кирсанов",
      "photoUrl": "https://lh3.googleusercontent.com/a/default-user=s128",
      "userId": "108640698260449341450"
     },
     "user_tz": -180
    },
    "id": "JyEyhLNYzZvm",
    "outputId": "856264a9-ee5a-4ee1-efa4-5af518596c97"
   },
   "outputs": [
    {
     "name": "stdout",
     "output_type": "stream",
     "text": [
      "[\n",
      "[14]\n",
      "<NDArray 1 @cpu(0)>]\n",
      "\n",
      "[14]\n",
      "<NDArray 1 @cpu(0)>\n"
     ]
    }
   ],
   "source": [
    "e_data = executor.forward()\n",
    "print(e_data)\n",
    "print(e_data[0])"
   ]
  },
  {
   "cell_type": "markdown",
   "metadata": {
    "colab_type": "text",
    "id": "yh4b0Pau1mcc"
   },
   "source": [
    "Попробуем применить тот же самый граф к четырём матрицам 1000х1000, заполненных рандомными числами от 0 до 1. Всё, что нам нужно сделать, так это определить новые входные данные: связывание и вычисления те же самые."
   ]
  },
  {
   "cell_type": "code",
   "execution_count": 16,
   "metadata": {
    "colab": {
     "autoexec": {
      "startup": false,
      "wait_interval": 0
     }
    },
    "colab_type": "code",
    "id": "f_FfDoWT1Hpv"
   },
   "outputs": [],
   "source": [
    "a_data = mx.nd.uniform(low=0, high=1, shape=(1000, 1000))\n",
    "b_data = mx.nd.uniform(low=0, high=1, shape=(1000, 1000))\n",
    "c_data = mx.nd.uniform(low=0, high=1, shape=(1000, 1000))\n",
    "d_data = mx.nd.uniform(low=0, high=1, shape=(1000, 1000)\n",
    "!pip install msgpack)\n",
    "\n",
    "executor = e.bind(ctx=mx.cpu(), args={'A': a_data, 'B': b_data, 'C': c_data, \n",
    "                                      'D': d_data})\n",
    "e_data = executor.forward()"
   ]
  },
  {
   "cell_type": "code",
   "execution_count": 17,
   "metadata": {
    "colab": {
     "autoexec": {
      "startup": false,
      "wait_interval": 0
     },
     "base_uri": "https://localhost:8080/",
     "height": 179
    },
    "colab_type": "code",
    "executionInfo": {
     "elapsed": 676,
     "status": "ok",
     "timestamp": 1531069472171,
     "user": {
      "displayName": "Глеб Кирсанов",
      "photoUrl": "https://lh3.googleusercontent.com/a/default-user=s128",
      "userId": "108640698260449341450"
     },
     "user_tz": -180
    },
    "id": "fBP4ybw32MUI",
    "outputId": "bd9e1f89-2263-4393-959d-f8fc1619570b"
   },
   "outputs": [
    {
     "name": "stdout",
     "output_type": "stream",
     "text": [
      "[\n",
      "[[0.1977522  0.58930916 0.9957535  ... 0.28916416 0.3330607  0.5123714 ]\n",
      " [0.07656978 0.5997503  0.55926484 ... 0.38490385 0.36591023 0.45478362]\n",
      " [0.39658463 0.17304057 0.54193836 ... 0.816297   0.7078872  0.52949476]\n",
      " ...\n",
      " [0.28478235 0.57425654 0.5903597  ... 0.2610643  0.82782537 0.73320323]\n",
      " [0.42121097 0.6792569  0.82689947 ... 0.06357475 0.21329054 0.6004921 ]\n",
      " [0.84038836 0.43226227 0.25343633 ... 0.9770783  0.5826757  0.32416496]]\n",
      "<NDArray 1000x1000 @cpu(0)>]\n"
     ]
    }
   ],
   "source": [
    "print(e_data)"
   ]
  },
  {
   "cell_type": "code",
   "execution_count": 18,
   "metadata": {
    "colab": {
     "autoexec": {
      "startup": false,
      "wait_interval": 0
     },
     "base_uri": "https://localhost:8080/",
     "height": 179
    },
    "colab_type": "code",
    "executionInfo": {
     "elapsed": 772,
     "status": "ok",
     "timestamp": 1531069473092,
     "user": {
      "displayName": "Глеб Кирсанов",
      "photoUrl": "https://lh3.googleusercontent.com/a/default-user=s128",
      "userId": "108640698260449341450"
     },
     "user_tz": -180
    },
    "id": "pMWd30qp2cbA",
    "outputId": "8bc64fb5-fbc1-4a14-c12d-305e6192edb6"
   },
   "outputs": [
    {
     "name": "stdout",
     "output_type": "stream",
     "text": [
      "\n",
      "[[0.1977522  0.58930916 0.9957535  ... 0.28916416 0.3330607  0.5123714 ]\n",
      " [0.07656978 0.5997503  0.55926484 ... 0.38490385 0.36591023 0.45478362]\n",
      " [0.39658463 0.17304057 0.54193836 ... 0.816297   0.7078872  0.52949476]\n",
      " ...\n",
      " [0.28478235 0.57425654 0.5903597  ... 0.2610643  0.82782537 0.73320323]\n",
      " [0.42121097 0.6792569  0.82689947 ... 0.06357475 0.21329054 0.6004921 ]\n",
      " [0.84038836 0.43226227 0.25343633 ... 0.9770783  0.5826757  0.32416496]]\n",
      "<NDArray 1000x1000 @cpu(0)>\n"
     ]
    }
   ],
   "source": [
    "print(e_data[0])"
   ]
  }
 ],
 "metadata": {
  "colab": {
   "default_view": {},
   "name": "7.0 Введение в MXNet - Символы.ipynb",
   "provenance": [],
   "version": "0.3.2",
   "views": {}
  },
  "kernelspec": {
   "display_name": "Python 3",
   "language": "python",
   "name": "python3"
  },
  "language_info": {
   "codemirror_mode": {
    "name": "ipython",
    "version": 3
   },
   "file_extension": ".py",
   "mimetype": "text/x-python",
   "name": "python",
   "nbconvert_exporter": "python",
   "pygments_lexer": "ipython3",
   "version": "3.6.5"
  }
 },
 "nbformat": 4,
 "nbformat_minor": 1
}
