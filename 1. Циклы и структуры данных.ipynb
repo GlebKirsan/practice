{
 "cells": [
  {
   "cell_type": "markdown",
   "metadata": {},
   "source": [
    "# Циклы\n",
    "\n",
    "## While\n",
    "Первая конструкция\n",
    "```\n",
    "while условие:\n",
    "    операции\n",
    "else:\n",
    "    операции\n",
    "```\n",
    "Прекратить цикл при каком-то условии внутри можно с помощью ```break```, в этом случае, условие при ```else``` не сработает; перейти на следующую итерацию - ```continue```."
   ]
  },
  {
   "cell_type": "code",
   "execution_count": 3,
   "metadata": {},
   "outputs": [
    {
     "name": "stdout",
     "output_type": "stream",
     "text": [
      "i = 9, сработает break\n",
      "\n",
      "Сработал else для while, значение i =  10\n"
     ]
    }
   ],
   "source": [
    "a = 5\n",
    "i = 0\n",
    "while i < 10:\n",
    "    i += 1\n",
    "    if i == 9:\n",
    "        print('i = 9, сработает break')\n",
    "        break\n",
    "else:\n",
    "    print('Сработал else для while, значение i = ', i)\n",
    "print()\n",
    "i = 0\n",
    "while i < 10:\n",
    "    i += 1\n",
    "else:\n",
    "    print('Сработал else для while, значение i = ', i)"
   ]
  },
  {
   "cell_type": "markdown",
   "metadata": {},
   "source": [
    "### Бесконечный цикл\n",
    "Бесконечный цикл пишется так"
   ]
  },
  {
   "cell_type": "code",
   "execution_count": 5,
   "metadata": {},
   "outputs": [],
   "source": [
    "i = 0\n",
    "while True:\n",
    "    i += 1\n",
    "    if i == 2:\n",
    "        break"
   ]
  },
  {
   "cell_type": "markdown",
   "metadata": {},
   "source": [
    "## For\n",
    "Общий вид \n",
    "```\n",
    "for iterator_name in коллекция:\n",
    "    операции\n",
    "else:\n",
    "    операции\n",
    "```\n",
    "Так же, как и с ```while``` применимы ```break``` и ```continue```."
   ]
  },
  {
   "cell_type": "code",
   "execution_count": 8,
   "metadata": {},
   "outputs": [
    {
     "name": "stdout",
     "output_type": "stream",
     "text": [
      "0 1 2 3 Сработал else\n",
      "0 2 Сработал else\n"
     ]
    }
   ],
   "source": [
    "for i in range(4):\n",
    "    print(i, end=' ')\n",
    "else:\n",
    "    print('Сработал else')\n",
    "    \n",
    "for i in range(0, 4, 2):\n",
    "    print(i, end=' ')\n",
    "else:\n",
    "    print('Сработал else')"
   ]
  },
  {
   "cell_type": "markdown",
   "metadata": {},
   "source": [
    "Для начала посмотрим на функцию ```range```.\n",
    "\n",
    "```range(start, stop[, step])``` Принимает на вход начало, конец(не включая) и шаг, и возвращает последовательность, по которой происходят итерации. По умолчанию шаг = 1."
   ]
  },
  {
   "cell_type": "code",
   "execution_count": 6,
   "metadata": {
    "scrolled": true
   },
   "outputs": [
    {
     "name": "stdout",
     "output_type": "stream",
     "text": [
      "Help on class range in module builtins:\n",
      "\n",
      "class range(object)\n",
      " |  range(stop) -> range object\n",
      " |  range(start, stop[, step]) -> range object\n",
      " |  \n",
      " |  Return an object that produces a sequence of integers from start (inclusive)\n",
      " |  to stop (exclusive) by step.  range(i, j) produces i, i+1, i+2, ..., j-1.\n",
      " |  start defaults to 0, and stop is omitted!  range(4) produces 0, 1, 2, 3.\n",
      " |  These are exactly the valid indices for a list of 4 elements.\n",
      " |  When step is given, it specifies the increment (or decrement).\n",
      " |  \n",
      " |  Methods defined here:\n",
      " |  \n",
      " |  __bool__(self, /)\n",
      " |      self != 0\n",
      " |  \n",
      " |  __contains__(self, key, /)\n",
      " |      Return key in self.\n",
      " |  \n",
      " |  __eq__(self, value, /)\n",
      " |      Return self==value.\n",
      " |  \n",
      " |  __ge__(self, value, /)\n",
      " |      Return self>=value.\n",
      " |  \n",
      " |  __getattribute__(self, name, /)\n",
      " |      Return getattr(self, name).\n",
      " |  \n",
      " |  __getitem__(self, key, /)\n",
      " |      Return self[key].\n",
      " |  \n",
      " |  __gt__(self, value, /)\n",
      " |      Return self>value.\n",
      " |  \n",
      " |  __hash__(self, /)\n",
      " |      Return hash(self).\n",
      " |  \n",
      " |  __iter__(self, /)\n",
      " |      Implement iter(self).\n",
      " |  \n",
      " |  __le__(self, value, /)\n",
      " |      Return self<=value.\n",
      " |  \n",
      " |  __len__(self, /)\n",
      " |      Return len(self).\n",
      " |  \n",
      " |  __lt__(self, value, /)\n",
      " |      Return self<value.\n",
      " |  \n",
      " |  __ne__(self, value, /)\n",
      " |      Return self!=value.\n",
      " |  \n",
      " |  __new__(*args, **kwargs) from builtins.type\n",
      " |      Create and return a new object.  See help(type) for accurate signature.\n",
      " |  \n",
      " |  __reduce__(...)\n",
      " |      helper for pickle\n",
      " |  \n",
      " |  __repr__(self, /)\n",
      " |      Return repr(self).\n",
      " |  \n",
      " |  __reversed__(...)\n",
      " |      Return a reverse iterator.\n",
      " |  \n",
      " |  count(...)\n",
      " |      rangeobject.count(value) -> integer -- return number of occurrences of value\n",
      " |  \n",
      " |  index(...)\n",
      " |      rangeobject.index(value, [start, [stop]]) -> integer -- return index of value.\n",
      " |      Raise ValueError if the value is not present.\n",
      " |  \n",
      " |  ----------------------------------------------------------------------\n",
      " |  Data descriptors defined here:\n",
      " |  \n",
      " |  start\n",
      " |  \n",
      " |  step\n",
      " |  \n",
      " |  stop\n",
      "\n"
     ]
    }
   ],
   "source": [
    "help(range)"
   ]
  },
  {
   "cell_type": "markdown",
   "metadata": {},
   "source": [
    "# Структуры\n",
    "## Лист/список\n",
    "Простой изменяемый контейнер, который может содержать элементы различных типов."
   ]
  },
  {
   "cell_type": "code",
   "execution_count": 1,
   "metadata": {},
   "outputs": [
    {
     "name": "stdout",
     "output_type": "stream",
     "text": [
      "[1, 'hi', 45, 2.0]\n",
      "1\n",
      "[1, 342]\n",
      "1 342\n",
      "\n",
      "1\n",
      "342\n",
      "1\n",
      "342\n"
     ]
    }
   ],
   "source": [
    "print([1, 'hi', 45, 2.0])\n",
    "a = [] #создание пустого листа\n",
    "b = [0] * 4 #создание списка из 4 нулей\n",
    "a.append('hello') #добавление элемелнта в конец списка a\n",
    "print(len(a)) #получение длины списка a\n",
    "a[0] = 1\n",
    "a.append(342)\n",
    "print(a)\n",
    "print(*a) #вывод всего списка без скобок и запятых\n",
    "print()\n",
    "# Можно итерироваться по элементам списка так\n",
    "for i in a:\n",
    "    print(i)\n",
    "# или так\n",
    "for i in range(len(a)):\n",
    "    print(a[i])"
   ]
  },
  {
   "cell_type": "markdown",
   "metadata": {},
   "source": [
    "## Генератор списков\n",
    "Позволяет создавать списки с минимальными выкладками кода, выглядит это так\n",
    "```[выражение for i in range(n) if условие]```. Эта запись возвращает лист. Например, создадим лист из квадратов нечётных чисел"
   ]
  },
  {
   "cell_type": "code",
   "execution_count": 21,
   "metadata": {},
   "outputs": [
    {
     "data": {
      "text/plain": [
       "[1, 9, 25, 49, 81]"
      ]
     },
     "execution_count": 21,
     "metadata": {},
     "output_type": "execute_result"
    }
   ],
   "source": [
    "[i * i for i in range(10) if i % 2 == 1]"
   ]
  },
  {
   "cell_type": "code",
   "execution_count": 24,
   "metadata": {},
   "outputs": [
    {
     "name": "stdout",
     "output_type": "stream",
     "text": [
      "[0, 1, 4, 9, 16, 25, 36, 49, 64, 81]\n"
     ]
    }
   ],
   "source": [
    "a = [i * i for i in range(10)] # или просто список квадратов чисел от 0 до 9\n",
    "\n",
    "print(a)"
   ]
  },
  {
   "cell_type": "markdown",
   "metadata": {},
   "source": [
    "Листы являются ссылочным типом. Это значит, что если две переменные хранят один и тот же лист, то при изменении в одной переменной, изменится и другая:"
   ]
  },
  {
   "cell_type": "code",
   "execution_count": 6,
   "metadata": {},
   "outputs": [
    {
     "name": "stdout",
     "output_type": "stream",
     "text": [
      "[45, 23, 150, 22, -4]\n",
      "[45, 23, -100, 22, -4]\n",
      "[45, 23, -100, 22, -4]\n"
     ]
    }
   ],
   "source": [
    "a = [45, 23, 150, 22, -4]\n",
    "\n",
    "b = a\n",
    "print(b)\n",
    "a[2] = -100\n",
    "print(a)\n",
    "print(b)"
   ]
  },
  {
   "cell_type": "markdown",
   "metadata": {},
   "source": [
    "Получить копию можно используя генераторы."
   ]
  },
  {
   "cell_type": "code",
   "execution_count": 7,
   "metadata": {},
   "outputs": [
    {
     "name": "stdout",
     "output_type": "stream",
     "text": [
      "[45, 23, 4, 22, -4]\n",
      "[45, 23, 150, 22, -4]\n"
     ]
    }
   ],
   "source": [
    "a = [45, 23, 150, 22, -4]\n",
    "\n",
    "b = [i for i in a] #т.е. формируется новый список из всех элементов а и присваивается b\n",
    "a[2] = 4\n",
    "print(a)\n",
    "print(b)"
   ]
  },
  {
   "cell_type": "markdown",
   "metadata": {},
   "source": [
    "С помощью генераторов можно задавать списки с клавиатуры."
   ]
  },
  {
   "cell_type": "code",
   "execution_count": 3,
   "metadata": {},
   "outputs": [
    {
     "name": "stdout",
     "output_type": "stream",
     "text": [
      "4\n",
      "20\n",
      "30\n",
      "-10\n",
      "3\n",
      "[20, 30, -10, 3]\n"
     ]
    }
   ],
   "source": [
    "#сначала вводится количество элементов, потом задаётся список целых чисел\n",
    "a = [int(input()) for i in range(int(input()))]\n",
    "print(a)"
   ]
  },
  {
   "cell_type": "code",
   "execution_count": 6,
   "metadata": {},
   "outputs": [
    {
     "name": "stdout",
     "output_type": "stream",
     "text": [
      " 12 3 4 5 6 7 8 231\n",
      "[12, 4, 6, 8]\n"
     ]
    }
   ],
   "source": [
    "#тоже самое, но список формируется сразу и из одной строки\n",
    "a = [int(i) for i in input().split() if int(i) % 2 == 0]\n",
    "#идёт итерация по полученному списку, разделённому пробелами, и каждое чётное значение приводится к int и\n",
    "#заносится в список\n",
    "print(a)"
   ]
  },
  {
   "cell_type": "markdown",
   "metadata": {},
   "source": [
    "### Создание двумерного списка"
   ]
  },
  {
   "cell_type": "code",
   "execution_count": 33,
   "metadata": {},
   "outputs": [
    {
     "name": "stdout",
     "output_type": "stream",
     "text": [
      "[[0, 0, 0, 0, 0, 0, 0, 0, 0, 0], [0, 0, 0, 0, 0, 0, 0, 0, 0, 0]]\n",
      "[[0, 4, 0, 0, 0, 0, 0, 0, 0, 0], [0, 4, 0, 0, 0, 0, 0, 0, 0, 0]]\n"
     ]
    }
   ],
   "source": [
    "a = [[0] * 10] * 2\n",
    "print(a)\n",
    "a[0][1] = 4 # изменение элемента в 0 строке, 1 столбце\n",
    "print(a)"
   ]
  },
  {
   "cell_type": "markdown",
   "metadata": {},
   "source": [
    "Обычно, это не тот результат, который человек хочет получить, изменяя один элемент. Дело в первой строке, в ней а присваивается матрица, полученная путём умножения \"раздвоения\" списка из 10 нулей.\n",
    "\n",
    "Решают эту проблемы тоже генераторы"
   ]
  },
  {
   "cell_type": "code",
   "execution_count": 35,
   "metadata": {},
   "outputs": [
    {
     "name": "stdout",
     "output_type": "stream",
     "text": [
      "[[0, 0, 0, 0, 0, 0, 0, 0, 0, 0], [0, 0, 0, 0, 0, 0, 0, 0, 0, 0]]\n",
      "[[0, 4, 0, 0, 0, 0, 0, 0, 0, 0], [0, 0, 0, 0, 0, 0, 0, 0, 0, 0]]\n"
     ]
    }
   ],
   "source": [
    "a = [[0] * 10 for i in range(2)]\n",
    "print(a)\n",
    "a[0][1] = 4\n",
    "print(a)"
   ]
  },
  {
   "cell_type": "markdown",
   "metadata": {},
   "source": [
    "## Кортеж\n",
    "В отличие от листа является неизменяемым контейнером."
   ]
  },
  {
   "cell_type": "code",
   "execution_count": 12,
   "metadata": {},
   "outputs": [
    {
     "name": "stdout",
     "output_type": "stream",
     "text": [
      "1\n"
     ]
    },
    {
     "ename": "TypeError",
     "evalue": "'tuple' object does not support item assignment",
     "output_type": "error",
     "traceback": [
      "\u001b[0;31m---------------------------------------------------------------------------\u001b[0m",
      "\u001b[0;31mTypeError\u001b[0m                                 Traceback (most recent call last)",
      "\u001b[0;32m<ipython-input-12-5837052bdf03>\u001b[0m in \u001b[0;36m<module>\u001b[0;34m()\u001b[0m\n\u001b[1;32m      1\u001b[0m \u001b[0ma\u001b[0m \u001b[0;34m=\u001b[0m \u001b[0;34m(\u001b[0m\u001b[0;36m1\u001b[0m\u001b[0;34m,\u001b[0m \u001b[0;36m2\u001b[0m\u001b[0;34m,\u001b[0m \u001b[0;36m3\u001b[0m\u001b[0;34m)\u001b[0m \u001b[0;31m#кортеж длины 3\u001b[0m\u001b[0;34m\u001b[0m\u001b[0m\n\u001b[1;32m      2\u001b[0m \u001b[0mprint\u001b[0m\u001b[0;34m(\u001b[0m\u001b[0ma\u001b[0m\u001b[0;34m[\u001b[0m\u001b[0;36m0\u001b[0m\u001b[0;34m]\u001b[0m\u001b[0;34m)\u001b[0m\u001b[0;34m\u001b[0m\u001b[0m\n\u001b[0;32m----> 3\u001b[0;31m \u001b[0ma\u001b[0m\u001b[0;34m[\u001b[0m\u001b[0;36m0\u001b[0m\u001b[0;34m]\u001b[0m \u001b[0;34m=\u001b[0m \u001b[0;36m30\u001b[0m \u001b[0;31m#приведёт к ошибке\u001b[0m\u001b[0;34m\u001b[0m\u001b[0m\n\u001b[0m",
      "\u001b[0;31mTypeError\u001b[0m: 'tuple' object does not support item assignment"
     ]
    }
   ],
   "source": [
    "a = (1, 2, 3) #кортеж длины 3\n",
    "print(a[0])\n",
    "a[0] = 30 #приведёт к ошибке"
   ]
  },
  {
   "cell_type": "markdown",
   "metadata": {},
   "source": [
    "Функция ```map``` позволяет применить функцию ко всем элементам контейнера ```map(функция, список)```."
   ]
  },
  {
   "cell_type": "code",
   "execution_count": 11,
   "metadata": {},
   "outputs": [
    {
     "data": {
      "text/plain": [
       "[1, 2, 3, 4]"
      ]
     },
     "execution_count": 11,
     "metadata": {},
     "output_type": "execute_result"
    }
   ],
   "source": [
    "a = ['1', '2', '3', '4']\n",
    "a = list(map(int, a)) #применили функцию int ко всем элементам a и превратили их в список\n",
    "a"
   ]
  },
  {
   "cell_type": "markdown",
   "metadata": {},
   "source": [
    "### Ввод значений в одну строку\n",
    "```split``` Применяется к строкам, чтобы получить список значений, где разделителем служит значение в скобках, по умолчанию это пробел. ```input().split()``` значит, что из строки, полученной через ```input```, вызывается ```split``` и возвращает список значений, введённых через пробел.\n",
    "\n",
    "Если ввести числа через пробел и использовать только что выученную функцию ```map```, то в каждую переменную запишется соотвествующее значение. "
   ]
  },
  {
   "cell_type": "code",
   "execution_count": 13,
   "metadata": {},
   "outputs": [
    {
     "name": "stdout",
     "output_type": "stream",
     "text": [
      "1 2 3 25\n",
      "1 2 3 25\n"
     ]
    }
   ],
   "source": [
    "a, b, c, t = map(int, input().split()) #введите четыре целых числа\n",
    "\n",
    "print(a, b, c, t)"
   ]
  },
  {
   "cell_type": "markdown",
   "metadata": {},
   "source": [
    "Функция ```zip``` позволяет получить список кортежей длины количества входящих списков."
   ]
  },
  {
   "cell_type": "code",
   "execution_count": 40,
   "metadata": {},
   "outputs": [
    {
     "name": "stdout",
     "output_type": "stream",
     "text": [
      "(1, 4)\n",
      "(2, 5)\n",
      "(3, 6)\n"
     ]
    }
   ],
   "source": [
    "a = [1, 2, 3]\n",
    "b = [4, 5, 6, 7]\n",
    "c = zip(a, b)\n",
    "for i in c:\n",
    "    print(i)"
   ]
  },
  {
   "cell_type": "markdown",
   "metadata": {},
   "source": [
    "Как видно, элемент 7 из списка b не попал в c.\n",
    "\n",
    "Как можно применять эту функцию?"
   ]
  },
  {
   "cell_type": "code",
   "execution_count": 55,
   "metadata": {},
   "outputs": [
    {
     "name": "stdout",
     "output_type": "stream",
     "text": [
      "i = 1, j = 4, i + j = 5\n",
      "i = 2, j = 5, i + j = 7\n",
      "i = 3, j = 6, i + j = 9\n"
     ]
    }
   ],
   "source": [
    "for i,j in zip(a, b):\n",
    "    print(\"i = {0}, j = {1}, i + j = {2}\".format(i, j, i + j))"
   ]
  },
  {
   "cell_type": "markdown",
   "metadata": {},
   "source": [
    "*Пояснение:* происходит параллельная итерация по двум спискам."
   ]
  },
  {
   "cell_type": "markdown",
   "metadata": {},
   "source": [
    "## Множество (set)\n",
    "Контейнер упорядочивает входящие в него элементы, содержит по одному экземпляру каждого. Поддерживает операции, применимые ко множествам."
   ]
  },
  {
   "cell_type": "code",
   "execution_count": 16,
   "metadata": {},
   "outputs": [
    {
     "name": "stdout",
     "output_type": "stream",
     "text": [
      "{1, 4, 5}\n",
      "\n",
      "{1, 4, 5}\n"
     ]
    }
   ],
   "source": [
    "s = set()\n",
    "s.add(4)\n",
    "s.add(1)\n",
    "s.add(5)\n",
    "print(s)\n",
    "s.add(5) #добавляем уже имеющийся элемент\n",
    "print()\n",
    "print(s)"
   ]
  },
  {
   "cell_type": "markdown",
   "metadata": {},
   "source": [
    "```dir(n)``` позволяет получить все операции и функции, которые могут быть применимы или вызваны из ```n```. Возвращает лист названий функций."
   ]
  },
  {
   "cell_type": "code",
   "execution_count": 15,
   "metadata": {},
   "outputs": [
    {
     "name": "stdout",
     "output_type": "stream",
     "text": [
      "['__and__', '__class__', '__contains__', '__delattr__', '__dir__', '__doc__', '__eq__', '__format__', '__ge__', '__getattribute__', '__gt__', '__hash__', '__iand__', '__init__', '__init_subclass__', '__ior__', '__isub__', '__iter__', '__ixor__', '__le__', '__len__', '__lt__', '__ne__', '__new__', '__or__', '__rand__', '__reduce__', '__reduce_ex__', '__repr__', '__ror__', '__rsub__', '__rxor__', '__setattr__', '__sizeof__', '__str__', '__sub__', '__subclasshook__', '__xor__', 'add', 'clear', 'copy', 'difference', 'difference_update', 'discard', 'intersection', 'intersection_update', 'isdisjoint', 'issubset', 'issuperset', 'pop', 'remove', 'symmetric_difference', 'symmetric_difference_update', 'union', 'update']\n"
     ]
    }
   ],
   "source": [
    "print(dir(set))"
   ]
  },
  {
   "cell_type": "code",
   "execution_count": 82,
   "metadata": {},
   "outputs": [
    {
     "name": "stdout",
     "output_type": "stream",
     "text": [
      "{1, 3, 4, 5, 6, 7}\n"
     ]
    }
   ],
   "source": [
    "a = set()\n",
    "a.add(3)\n",
    "a.add(1)\n",
    "a.add(4)\n",
    "b = {4, 5, 6, 7} #создание множества требует фигурных скобок, для пустого - a = {} или a = set()\n",
    "print(a.union(b))#объединение двух множеств"
   ]
  },
  {
   "cell_type": "markdown",
   "metadata": {},
   "source": [
    "### Проверка на вхождение\n",
    "Проверить, является ли элемент частью множества можно с помощью ```in```"
   ]
  },
  {
   "cell_type": "code",
   "execution_count": 2,
   "metadata": {},
   "outputs": [
    {
     "name": "stdout",
     "output_type": "stream",
     "text": [
      "True\n",
      "False\n",
      "False\n"
     ]
    }
   ],
   "source": [
    "a = {1, 2, 3, 'hi'}\n",
    "print(1 in a)\n",
    "print(-1 in a)\n",
    "print('h' in a)"
   ]
  },
  {
   "cell_type": "markdown",
   "metadata": {},
   "source": [
    "### Удаление элемента\n",
    "Удаление элемента можно произвести тремя способами:\n",
    "* ```set.remove(element)``` $-$ если точно уверены, что элемент присутствует в множестве. Если его нет, то случится ошибка.\n",
    "* ```set.discard(element)``` $-$ в отличие от первого, ошибки не произойдёт\n",
    "* ```set.clear()``` $-$ очистка списка"
   ]
  },
  {
   "cell_type": "markdown",
   "metadata": {},
   "source": [
    "## Словарь\n",
    "Неупорядоченная коллекция, позволяющая по ключу получить значение."
   ]
  },
  {
   "cell_type": "code",
   "execution_count": 92,
   "metadata": {},
   "outputs": [
    {
     "name": "stdout",
     "output_type": "stream",
     "text": [
      "dict_items([('4', 1), (1, 2), (15, ['hello', 1, 3]), ((1, 2), 2)])\n",
      "{1: 35, 2: 46}\n"
     ]
    }
   ],
   "source": [
    "d = dict() #создание пустого словаря\n",
    "d['4'] = 1 #по ключу '4' будет доступно значение 1\n",
    "d[1] = 2\n",
    "d[15] = ['hello', 1, 3]\n",
    "d[1,2] = 2\n",
    "print(d.items())\n",
    "d1 = {1: 35,\n",
    "     2: 46} #второй способ задать словарь key: value\n",
    "print(d1)"
   ]
  },
  {
   "cell_type": "markdown",
   "metadata": {},
   "source": [
    "## Генераторы словарей\n",
    "```{ key:value for item in list if conditional }``` общий вид. Отличаются от генераторов списков соотвественно тем, что возвращают словари и пишутся в фигурных скобках."
   ]
  },
  {
   "cell_type": "code",
   "execution_count": 96,
   "metadata": {},
   "outputs": [
    {
     "name": "stdout",
     "output_type": "stream",
     "text": [
      "{'id1': 1, 'id2': 2, 'id3': 3, 'id4': 4, 'id5': 5, 'id6': 6}\n"
     ]
    }
   ],
   "source": [
    "d = {'id'+str(i): i for i in [1, 2, 3, 4 , 5 , 6]} #по ключу id + i будет доступен i, например\n",
    "print(d)"
   ]
  },
  {
   "cell_type": "markdown",
   "metadata": {},
   "source": [
    "Множества не поддерживают индексирование. Т.е. для итерации используется конструкция ```for i in set```"
   ]
  },
  {
   "cell_type": "code",
   "execution_count": 104,
   "metadata": {},
   "outputs": [
    {
     "name": "stdout",
     "output_type": "stream",
     "text": [
      "1  2  4  5  6  hi \n",
      "1 - значение, 1 - ключ\n",
      "4 - значение, 2 - ключ\n",
      "9 - значение, 3 - ключ\n",
      "16 - значение, 4 - ключ\n",
      "25 - значение, 5 - ключ\n",
      "36 - значение, 6 - ключ\n",
      "49 - значение, 7 - ключ\n",
      "64 - значение, 8 - ключ\n",
      "81 - значение, 9 - ключ\n"
     ]
    }
   ],
   "source": [
    "a = {1, 2, 4, 5, 6, 'hi'}\n",
    "d = {i: i ** 2 for i in range(1, 10)}\n",
    "it = 0\n",
    "for i in a:\n",
    "    it += 1\n",
    "    print(i, ' \\n'[it == len(a)], end='')\n",
    "for key, value in d.items():\n",
    "    print(\"{0} - значение, {1} - ключ\".format(value, key))"
   ]
  },
  {
   "cell_type": "markdown",
   "metadata": {},
   "source": [
    "```' \\n'[it == len(a)]``` конструкция позволяет, пока не конец коллекции, ставить а пробелы, а потом перенос на новую строку. ```\\n``` считается одним символом. Пока ```it != len(a)```, выражение в скобках будет давать 0, что будет эквивалентно ```' \\n'[0]```, т.е. пробелу. Как только ```it == len(a)```, в скобках будет 1 и произойдёт перенос строки."
   ]
  },
  {
   "cell_type": "markdown",
   "metadata": {},
   "source": [
    "### Удаление из словаря\n",
    "Сначала нужно проверить наличие элемента в словаре функцией ```dictionary.get(ключ)```. Она вернёт значение, если оно есть или ```None```, если такого ключа в словаре нет. Затем используется ```del```"
   ]
  },
  {
   "cell_type": "code",
   "execution_count": 3,
   "metadata": {},
   "outputs": [
    {
     "name": "stdout",
     "output_type": "stream",
     "text": [
      "True\n",
      "False\n",
      "None\n",
      "3\n",
      "{1: 15}\n"
     ]
    }
   ],
   "source": [
    "dictionary = {1: 15, 2: 3}\n",
    "print(1 in dictionary)\n",
    "print(2 not in dictionary)\n",
    "print(dictionary.get(3))\n",
    "print(dictionary.get(2))\n",
    "del dictionary[2]\n",
    "print(dictionary)"
   ]
  }
 ],
 "metadata": {
  "kernelspec": {
   "display_name": "Python 3",
   "language": "python",
   "name": "python3"
  },
  "language_info": {
   "codemirror_mode": {
    "name": "ipython",
    "version": 3
   },
   "file_extension": ".py",
   "mimetype": "text/x-python",
   "name": "python",
   "nbconvert_exporter": "python",
   "pygments_lexer": "ipython3",
   "version": "3.6.5"
  }
 },
 "nbformat": 4,
 "nbformat_minor": 2
}
